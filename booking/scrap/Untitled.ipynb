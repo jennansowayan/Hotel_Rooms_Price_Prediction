{
 "cells": [
  {
   "cell_type": "code",
   "execution_count": null,
   "id": "c99343ea-0861-41d5-a94a-a56bb07e9537",
   "metadata": {},
   "outputs": [
    {
     "name": "stdout",
     "output_type": "stream",
     "text": [
      "Downloading https://www.booking.com/searchresults.en-gb.html?aid=304142&label=gen173nr-1DCAEoggI46AdIM1gEaKQCiAEBmAEJuAEHyAEM2AED6AEBiAIBqAIDuALCxJ31BcACAQ&sid=b708c8a39617a16bdfd4b3bb35c5f955&tmpl=searchresults&checkin_month=10&checkin_monthday=18&checkin_year=2021&checkout_month=10&checkout_monthday=19&checkout_year=2021&class_interval=1&dest_id=186&dest_type=country&dtdisc=0&from_sf=1&group_adults=2&group_children=0&inac=0&index_postcard=0&label_click=undef&no_rooms=1&postcard=0&raw_dest_type=country&room1=A%2CA&sb_price_type=total&sb_travel_purpose=business&shw_aparth=1&slp_r_match=0&src=searchresults&src_elem=sb&srpvid=0efa37f93082018f&ss=Saudi%20Arabia&ss_all=0&ssb=empty&sshis=0&ssne=Saudi%20Arabia&ssne_untouched=Saudi%20Arabia&top_ufis=1&rows=25&offset=650\n",
      "\n",
      "Downloading https://www.booking.com/searchresults.en-gb.html?aid=304142&label=gen173nr-1DCAEoggI46AdIM1gEaKQCiAEBmAEJuAEHyAEM2AED6AEBiAIBqAIDuALCxJ31BcACAQ&sid=b708c8a39617a16bdfd4b3bb35c5f955&tmpl=searchresults&checkin_month=10&checkin_monthday=18&checkin_year=2021&checkout_month=10&checkout_monthday=19&checkout_year=2021&class_interval=1&dest_id=186&dest_type=country&dtdisc=0&from_sf=1&group_adults=2&group_children=0&inac=0&index_postcard=0&label_click=undef&no_rooms=1&postcard=0&raw_dest_type=country&room1=A%2CA&sb_price_type=total&sb_travel_purpose=business&shw_aparth=1&slp_r_match=0&src=searchresults&src_elem=sb&srpvid=0efa37f93082018f&ss=Saudi%20Arabia&ss_all=0&ssb=empty&sshis=0&ssne=Saudi%20Arabia&ssne_untouched=Saudi%20Arabia&top_ufis=1&rows=25&offset=675\n",
      "\n"
     ]
    }
   ],
   "source": [
    "from selectorlib import Extractor\n",
    "import requests \n",
    "from time import sleep\n",
    "import csv\n",
    "\n",
    "# Create an Extractor by reading from the YAML file\n",
    "e = Extractor.from_yaml_file('booking.yml')\n",
    "\n",
    "def scrape(url):    \n",
    "    headers = {\n",
    "        'Connection': 'keep-alive',\n",
    "        'Pragma': 'no-cache',\n",
    "        'Cache-Control': 'no-cache',\n",
    "        'DNT': '1',\n",
    "        'Upgrade-Insecure-Requests': '1',\n",
    "        # You may want to change the user agent if you get blocked\n",
    "        'User-Agent': 'Mozilla/5.0 (Macintosh; Intel Mac OS X 10_15_4) AppleWebKit/537.36 (KHTML, like Gecko) Chrome/81.0.4044.113 Safari/537.36',\n",
    "        'Accept': 'text/html,application/xhtml+xml,application/xml;q=0.9,image/webp,image/apng,*/*;q=0.8,application/signed-exchange;v=b3;q=0.9',\n",
    "\n",
    "        'Referer': 'https://www.booking.com/index.en-gb.html',\n",
    "        'Accept-Language': 'en-GB,en-US;q=0.9,en;q=0.8',\n",
    "    }\n",
    "\n",
    "    # Download the page using requests\n",
    "    print(\"Downloading %s\"%url)\n",
    "    r = requests.get(url, headers=headers)\n",
    "    # Pass the HTML of the page and create \n",
    "    return e.extract(r.text,base_url=url)\n",
    "\n",
    "# product_data = []\n",
    "\n",
    "with open(\"urls.txt\",'r') as urllist, open('data.csv','w') as outfile:\n",
    "    fieldnames = [\n",
    "        \"name\",\n",
    "        \"location\",\n",
    "        \"price\",\n",
    "        \"price_for\",\n",
    "        \"room_type\",\n",
    "        \"beds\",\n",
    "        \"rating\",\n",
    "        \"rating_title\",\n",
    "        \"number_of_ratings\",\n",
    "        \"url\"\n",
    "    ]\n",
    "    writer = csv.DictWriter(outfile, fieldnames=fieldnames,quoting=csv.QUOTE_ALL)\n",
    "    writer.writeheader()\n",
    "    for url in urllist.readlines():\n",
    "        data = scrape(url) \n",
    "        if data:\n",
    "            for h in data['hotels']:\n",
    "                writer.writerow(h)\n",
    "                sleep(13)\n",
    "    "
   ]
  },
  {
   "cell_type": "code",
   "execution_count": null,
   "id": "4affdc18-6089-48d5-97cf-58433a45da4f",
   "metadata": {},
   "outputs": [],
   "source": []
  },
  {
   "cell_type": "code",
   "execution_count": null,
   "id": "ed7e6593-2bcf-4fb0-8582-3b99648d3f8d",
   "metadata": {},
   "outputs": [],
   "source": []
  }
 ],
 "metadata": {
  "kernelspec": {
   "display_name": "Python 3 (ipykernel)",
   "language": "python",
   "name": "python3"
  },
  "language_info": {
   "codemirror_mode": {
    "name": "ipython",
    "version": 3
   },
   "file_extension": ".py",
   "mimetype": "text/x-python",
   "name": "python",
   "nbconvert_exporter": "python",
   "pygments_lexer": "ipython3",
   "version": "3.8.0"
  }
 },
 "nbformat": 4,
 "nbformat_minor": 5
}
